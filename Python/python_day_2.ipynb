{
  "nbformat": 4,
  "nbformat_minor": 0,
  "metadata": {
    "colab": {
      "provenance": []
    },
    "kernelspec": {
      "name": "python3",
      "display_name": "Python 3"
    },
    "language_info": {
      "name": "python"
    }
  },
  "cells": [
    {
      "cell_type": "markdown",
      "source": [
        "prime"
      ],
      "metadata": {
        "id": "_9eXh6-RUA1v"
      }
    },
    {
      "cell_type": "code",
      "execution_count": 12,
      "metadata": {
        "colab": {
          "base_uri": "https://localhost:8080/"
        },
        "id": "KjBSjkwPT8Rq",
        "outputId": "aecc9d7a-ca0e-4129-aa7a-2678b30390ee"
      },
      "outputs": [
        {
          "output_type": "stream",
          "name": "stdout",
          "text": [
            "3\n",
            "prime\n"
          ]
        }
      ],
      "source": [
        "n=int(input())\n",
        "count=0\n",
        "for i in range(1,n+1):\n",
        "  if(n%i==0):\n",
        "    count+=1\n",
        "if(count==2):\n",
        "  print(\"prime\")\n",
        "else:\n",
        "  print(\"no\")"
      ]
    },
    {
      "cell_type": "markdown",
      "source": [
        "factorial"
      ],
      "metadata": {
        "id": "6hVKM2-_UFGX"
      }
    },
    {
      "cell_type": "code",
      "source": [
        "n=int(input())\n",
        "fact=1\n",
        "for i in range(1,n+1):\n",
        "  fact=fact*i\n",
        "print(fact)"
      ],
      "metadata": {
        "colab": {
          "base_uri": "https://localhost:8080/"
        },
        "id": "ZULrzR1oUIbN",
        "outputId": "1c45bd0e-846c-40ca-b911-ff4b91db3e40"
      },
      "execution_count": null,
      "outputs": [
        {
          "output_type": "stream",
          "name": "stdout",
          "text": [
            "5\n",
            "120\n"
          ]
        }
      ]
    },
    {
      "cell_type": "markdown",
      "source": [
        "fibnocci series upto n"
      ],
      "metadata": {
        "id": "UN-RKmPQUgDR"
      }
    },
    {
      "cell_type": "code",
      "source": [
        "n=int(input())\n",
        "a=0\n",
        "b=1\n",
        "print(a,b,end=\" \")\n",
        "for i in range(2,n):\n",
        "  c=a+b\n",
        "  print(c,end=\" \")\n",
        "  a=b\n",
        "  b=c"
      ],
      "metadata": {
        "colab": {
          "base_uri": "https://localhost:8080/"
        },
        "id": "B6AzoBI1UjhC",
        "outputId": "ea861f0b-e74d-4359-ddfa-97a8c42e1ef9"
      },
      "execution_count": null,
      "outputs": [
        {
          "output_type": "stream",
          "name": "stdout",
          "text": [
            "10\n",
            "0 1 1 2 3 5 8 13 21 34 "
          ]
        }
      ]
    },
    {
      "cell_type": "code",
      "source": [],
      "metadata": {
        "id": "GDSZyPSjVLWO"
      },
      "execution_count": null,
      "outputs": []
    },
    {
      "cell_type": "markdown",
      "source": [
        "find sum of digits of a given number\n",
        "\n",
        "> Add blockquote\n",
        "\n"
      ],
      "metadata": {
        "id": "vH-4RX05VE7a"
      }
    },
    {
      "cell_type": "code",
      "source": [
        "n=int(input())\n",
        "sum=0\n",
        "while(n>0):\n",
        "  rem=n%10\n",
        "  sum=sum+rem\n",
        "  n=n//10\n",
        "print(\"sum of digits:\",sum)"
      ],
      "metadata": {
        "colab": {
          "base_uri": "https://localhost:8080/"
        },
        "id": "9Sbob9IeVMgX",
        "outputId": "da667197-a810-4e33-f4be-dcae5da8a1c6"
      },
      "execution_count": null,
      "outputs": [
        {
          "output_type": "stream",
          "name": "stdout",
          "text": [
            "123\n",
            "sum of digits: 6\n"
          ]
        }
      ]
    },
    {
      "cell_type": "markdown",
      "source": [
        "reverse of a number"
      ],
      "metadata": {
        "id": "xBBWCY2DX6d3"
      }
    },
    {
      "cell_type": "code",
      "source": [
        "n=int(input())\n",
        "rev=\"\"\n",
        "while(n>0):\n",
        "  rem=n%10\n",
        "  rev=rev+str(rem)\n",
        "  n=n//10\n",
        "print(rev)\n"
      ],
      "metadata": {
        "colab": {
          "base_uri": "https://localhost:8080/"
        },
        "id": "UOWaMEosX9lB",
        "outputId": "ff1f2898-10b8-450c-c076-b12fa86fff86"
      },
      "execution_count": null,
      "outputs": [
        {
          "output_type": "stream",
          "name": "stdout",
          "text": [
            "123\n",
            "321\n"
          ]
        }
      ]
    }
  ]
}