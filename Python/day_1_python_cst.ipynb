{
  "nbformat": 4,
  "nbformat_minor": 0,
  "metadata": {
    "colab": {
      "provenance": []
    },
    "kernelspec": {
      "name": "python3",
      "display_name": "Python 3"
    },
    "language_info": {
      "name": "python"
    }
  },
  "cells": [
    {
      "cell_type": "code",
      "source": [],
      "metadata": {
        "id": "OrD2HfYz3xoN"
      },
      "execution_count": null,
      "outputs": []
    },
    {
      "cell_type": "markdown",
      "source": [
        "palindrome"
      ],
      "metadata": {
        "id": "9RJmiN6O3wHb"
      }
    },
    {
      "cell_type": "code",
      "execution_count": null,
      "metadata": {
        "colab": {
          "base_uri": "https://localhost:8080/"
        },
        "id": "8ktvBrjk3dAj",
        "outputId": "7d6d0eec-74b9-4581-8857-1718b1e924f4"
      },
      "outputs": [
        {
          "output_type": "stream",
          "name": "stdout",
          "text": [
            "madam\n",
            "palindrome\n"
          ]
        }
      ],
      "source": [
        "\n",
        "s=input()\n",
        "rev=s[::-1]\n",
        "if rev==s:\n",
        "    print(\"palindrome\")\n",
        "else:\n",
        "    print(\"no\")\n",
        "\n",
        "\n"
      ]
    },
    {
      "cell_type": "markdown",
      "source": [
        "reversing of a string"
      ],
      "metadata": {
        "id": "PuU7aelo38G_"
      }
    },
    {
      "cell_type": "code",
      "source": [
        "\n",
        "\n",
        "s=input()\n",
        "i=len(s)-1\n",
        "res=\"\"\n",
        "while(i>=0):\n",
        "    res+=s[i]\n",
        "    i-=1\n",
        "print(res)\n",
        "\n",
        "\n"
      ],
      "metadata": {
        "colab": {
          "base_uri": "https://localhost:8080/"
        },
        "id": "dpbPp7W94Bpb",
        "outputId": "60606303-5b51-48ce-a9a6-3b67b7363543"
      },
      "execution_count": null,
      "outputs": [
        {
          "output_type": "stream",
          "name": "stdout",
          "text": [
            "saranya\n",
            "aynaras\n"
          ]
        }
      ]
    },
    {
      "cell_type": "markdown",
      "source": [
        "vowels and consonants"
      ],
      "metadata": {
        "id": "RkDerL7N4MYB"
      }
    },
    {
      "cell_type": "code",
      "source": [
        "s=input()\n",
        "vowels=\"aeiou\"\n",
        "vowels_count=0\n",
        "consonants_count=0\n",
        "for i in s:\n",
        "    if i in vowels:\n",
        "        vowels_count+=1\n",
        "    else:\n",
        "        consonants_count+=1\n",
        "print(vowels_count)\n",
        "print(consonants_count)\n",
        "\n"
      ],
      "metadata": {
        "colab": {
          "base_uri": "https://localhost:8080/"
        },
        "id": "jjL1-BGr4Qfr",
        "outputId": "7eac79e4-f885-4805-ebd6-8cfb9968c1bd"
      },
      "execution_count": null,
      "outputs": [
        {
          "output_type": "stream",
          "name": "stdout",
          "text": [
            "saranya\n",
            "3\n",
            "4\n"
          ]
        }
      ]
    },
    {
      "cell_type": "markdown",
      "source": [
        "remove space in a string"
      ],
      "metadata": {
        "id": "_BqLbTRc4n-Q"
      }
    },
    {
      "cell_type": "code",
      "source": [
        "s=input()\n",
        "res=\"\"\n",
        "for i in s:\n",
        "    if i!=\" \":\n",
        "        res+=i\n",
        "print(res)\n",
        "\n",
        "\n",
        "\n",
        "\n"
      ],
      "metadata": {
        "colab": {
          "base_uri": "https://localhost:8080/"
        },
        "id": "aL6Sc-pq4nDz",
        "outputId": "87610478-e13d-4de0-e641-761b5cdd3b24"
      },
      "execution_count": null,
      "outputs": [
        {
          "output_type": "stream",
          "name": "stdout",
          "text": [
            "saranya sai\n",
            "saranyasai\n"
          ]
        }
      ]
    },
    {
      "cell_type": "markdown",
      "source": [
        "count of string"
      ],
      "metadata": {
        "id": "GE-fxzNx43GC"
      }
    },
    {
      "cell_type": "code",
      "source": [
        "s=input()\n",
        "for i in s:\n",
        "    print(f\"{i}:{s.count(i)}\")"
      ],
      "metadata": {
        "colab": {
          "base_uri": "https://localhost:8080/"
        },
        "id": "4ftbFTvG40Ld",
        "outputId": "81059054-cfe3-4796-bd2f-b43e9ac0968e"
      },
      "execution_count": null,
      "outputs": [
        {
          "output_type": "stream",
          "name": "stdout",
          "text": [
            "saranya\n",
            "s:1\n",
            "a:3\n",
            "r:1\n",
            "a:3\n",
            "n:1\n",
            "y:1\n",
            "a:3\n"
          ]
        }
      ]
    }
  ]
}